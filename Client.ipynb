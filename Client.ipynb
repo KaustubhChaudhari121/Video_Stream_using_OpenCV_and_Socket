{
 "cells": [
  {
   "cell_type": "code",
   "execution_count": null,
   "metadata": {},
   "outputs": [],
   "source": [
    "import socket\n",
    "import urllib\n",
    "import json\n",
    "import pickle\n",
    "import numpy as np\n",
    "import cv2\n",
    "\n",
    "#URL from Ip Webcam App(Download from Google Play Store)\n",
    "url = \"http://192.168.1.3:8080/shot.jpg\"\n",
    "\n",
    "s = socket.socket(socket.AF_INET,socket.SOCK_STREAM)\n",
    "\n",
    "#IP of Server System(Windows in my case)\n",
    "ip = \"192.168.1.9\"\n",
    "port = 1234\n",
    "\n",
    "s.connect((ip,port))\n",
    "\n",
    "while True:\n",
    "    x = s.recv(1000000)\n",
    "    print(\"Received...\")\n",
    "    \n",
    "    imgResp = urllib.request.urlopen(url)\n",
    "    imgNP = np.array(bytearray(imgResp.read()),dtype=np.uint8)\n",
    "    img = cv2.imdecode(imgNP , -1)\n",
    "    img = cv2.resize(img , (700,500))\n",
    "    ret , buffer = cv2.imencode('.jpg',img)\n",
    "    bytedata = pickle.dumps(buffer)\n",
    "    \n",
    "    s.send(bytedata)\n",
    "    \n",
    "    try : \n",
    "        data = pickle.loads(x)\n",
    "        data = cv2.imdecode(data , cv2.IMREAD_COLOR)\n",
    "        if data is not None : \n",
    "            cv2.imshow(\"Client side\",data)\n",
    "            if cv2.waitKey(10) == 13:\n",
    "                break\n",
    "    except:\n",
    "        print(\"Waiting for Server...\")\n",
    "cv2.destroyAllWindows()"
   ]
  },
  {
   "cell_type": "code",
   "execution_count": null,
   "metadata": {},
   "outputs": [],
   "source": []
  },
  {
   "cell_type": "code",
   "execution_count": null,
   "metadata": {},
   "outputs": [],
   "source": []
  }
 ],
 "metadata": {
  "kernelspec": {
   "display_name": "Python 3",
   "language": "python",
   "name": "python3"
  },
  "language_info": {
   "codemirror_mode": {
    "name": "ipython",
    "version": 3
   },
   "file_extension": ".py",
   "mimetype": "text/x-python",
   "name": "python",
   "nbconvert_exporter": "python",
   "pygments_lexer": "ipython3",
   "version": "3.8.3"
  }
 },
 "nbformat": 4,
 "nbformat_minor": 4
}
